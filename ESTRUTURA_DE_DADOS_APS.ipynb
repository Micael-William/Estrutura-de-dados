{
  "nbformat": 4,
  "nbformat_minor": 0,
  "metadata": {
    "colab": {
      "name": "ESTRUTURA DE DADOS - APS",
      "provenance": [],
      "collapsed_sections": [],
      "authorship_tag": "ABX9TyMNtp57yG8o36QLJwBrqOZ9",
      "include_colab_link": true
    },
    "kernelspec": {
      "name": "python3",
      "display_name": "Python 3"
    },
    "language_info": {
      "name": "python"
    }
  },
  "cells": [
    {
      "cell_type": "markdown",
      "metadata": {
        "id": "view-in-github",
        "colab_type": "text"
      },
      "source": [
        "<a href=\"https://colab.research.google.com/github/Micael-William/Estrutura-de-dados/blob/main/ESTRUTURA_DE_DADOS_APS.ipynb\" target=\"_parent\"><img src=\"https://colab.research.google.com/assets/colab-badge.svg\" alt=\"Open In Colab\"/></a>"
      ]
    },
    {
      "cell_type": "code",
      "execution_count": 75,
      "metadata": {
        "colab": {
          "base_uri": "https://localhost:8080/"
        },
        "id": "pNHBJfIsRG1z",
        "outputId": "a094be7c-833c-44ce-930e-f5e281174a7d"
      },
      "outputs": [
        {
          "name": "stdout",
          "output_type": "stream",
          "text": [
            "\n",
            "[1] - Cadastrar cliente\n",
            "[2] - Consultar Clientes\n",
            "[3] - Sair do programa\n",
            "1\n",
            "Digite o nome do cliente: vuvhk\n",
            "Digite o cep do cliente: 57466353\n",
            "Digite o telefone do cliente: 79668959\n",
            "[('vuvhk', '57466353', '79668959')]\n",
            "Cliente adicionado\n",
            "\n",
            "[1] - Cadastrar cliente\n",
            "[2] - Consultar Clientes\n",
            "[3] - Sair do programa\n",
            "2\n",
            "\n",
            "      Nome: vuvhk\n",
            "      Cep: 57466353\n",
            "      Telefone: 79668959\n",
            "\n",
            "[1] - Cadastrar cliente\n",
            "[2] - Consultar Clientes\n",
            "[3] - Sair do programa\n",
            "3\n"
          ]
        }
      ],
      "source": [
        "clientes = []\n",
        "n_clientes = 1\n",
        "\n",
        "def menu() :\n",
        "    option = int(input('''\n",
        "[1] - Cadastrar cliente\n",
        "[2] - Consultar Clientes\n",
        "[3] - Sair do programa\n",
        "'''))\n",
        "\n",
        "    return option\n",
        "\n",
        "def cadastra_cliente() :\n",
        "    cliente_nome = input('Digite o nome do cliente: ')\n",
        "    cliente_cep = input('Digite o cep do cliente: ')\n",
        "    cliente_telefone = input('Digite o telefone do cliente: ')\n",
        "    clientes_dados = (cliente_nome,cliente_cep,cliente_telefone)\n",
        "    clientes.append(clientes_dados)\n",
        "    print(clientes)\n",
        "    print('Cliente adicionado')\n",
        "\n",
        "def mostrar_cliente() :\n",
        "    for cliente in clientes:\n",
        "      print(f'''\n",
        "      Nome: {cliente[0]}\n",
        "      Cep: {cliente[1]}\n",
        "      Telefone: {cliente[2]}''')\n",
        "\n",
        "\n",
        "def programa() :\n",
        "\n",
        "    while True:\n",
        "        option = menu()\n",
        "\n",
        "        if option == 1 :\n",
        "            cadastra_cliente()\n",
        "        if option == 2 :\n",
        "            mostrar_cliente()\n",
        "        if option == 3 :\n",
        "          break\n",
        "\n",
        "programa()\n",
        "\n"
      ]
    }
  ]
}