{
  "nbformat": 4,
  "nbformat_minor": 0,
  "metadata": {
    "colab": {
      "name": "Untitled4.ipynb",
      "provenance": [],
      "authorship_tag": "ABX9TyOiXAd1F1fZUN671QTh+NbA",
      "include_colab_link": true
    },
    "kernelspec": {
      "name": "python3",
      "display_name": "Python 3"
    },
    "language_info": {
      "name": "python"
    }
  },
  "cells": [
    {
      "cell_type": "markdown",
      "metadata": {
        "id": "view-in-github",
        "colab_type": "text"
      },
      "source": [
        "<a href=\"https://colab.research.google.com/github/Micael-William/Estrutura-de-dados/blob/main/Untitled4.ipynb\" target=\"_parent\"><img src=\"https://colab.research.google.com/assets/colab-badge.svg\" alt=\"Open In Colab\"/></a>"
      ]
    },
    {
      "cell_type": "code",
      "execution_count": null,
      "metadata": {
        "colab": {
          "base_uri": "https://localhost:8080/"
        },
        "id": "Z3gaeiRw5OE-",
        "outputId": "de54d1cd-c19c-40ae-cf46-c36df0628fe7"
      },
      "outputs": [
        {
          "output_type": "stream",
          "name": "stdout",
          "text": [
            "digite a nota: 2\n",
            "digite a nota: 3\n",
            "digite a nota: 5\n",
            "digite a nota: 7\n",
            "digite a nota: 7\n",
            "soma = 24\n"
          ]
        }
      ],
      "source": [
        "array = []\n",
        "\n",
        "for _ in range(1,6):\n",
        "    valor = int(input('digite a nota: '))\n",
        "    array.append(valor)\n",
        "\n",
        "soma = 0\n",
        "\n",
        "for i in range(len(array)):\n",
        "      soma +=array[i]\n",
        "print(f'soma = {soma}')\n",
        " \n",
        "\n"
      ]
    }
  ]
}