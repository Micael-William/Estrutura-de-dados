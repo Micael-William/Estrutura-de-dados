{
  "nbformat": 4,
  "nbformat_minor": 0,
  "metadata": {
    "colab": {
      "name": "Untitled4.ipynb",
      "provenance": [],
      "authorship_tag": "ABX9TyPCIrTHVxgIQXG5MEVpOee4",
      "include_colab_link": true
    },
    "kernelspec": {
      "name": "python3",
      "display_name": "Python 3"
    },
    "language_info": {
      "name": "python"
    }
  },
  "cells": [
    {
      "cell_type": "markdown",
      "metadata": {
        "id": "view-in-github",
        "colab_type": "text"
      },
      "source": [
        "<a href=\"https://colab.research.google.com/github/Micael-William/Estrutura-de-dados/blob/main/Untitled4.ipynb\" target=\"_parent\"><img src=\"https://colab.research.google.com/assets/colab-badge.svg\" alt=\"Open In Colab\"/></a>"
      ]
    },
    {
      "cell_type": "code",
      "execution_count": null,
      "metadata": {
        "colab": {
          "base_uri": "https://localhost:8080/"
        },
        "id": "Z3gaeiRw5OE-",
        "outputId": "de54d1cd-c19c-40ae-cf46-c36df0628fe7"
      },
      "outputs": [
        {
          "output_type": "stream",
          "name": "stdout",
          "text": [
            "digite a nota: 2\n",
            "digite a nota: 3\n",
            "digite a nota: 5\n",
            "digite a nota: 7\n",
            "digite a nota: 7\n",
            "soma = 24\n"
          ]
        }
      ],
      "source": [
        "array = []\n",
        "\n",
        "for _ in range(1,6):\n",
        "    valor = int(input('digite a nota: '))\n",
        "    array.append(valor)\n",
        "\n",
        "soma = 0\n",
        "\n",
        "for i in range(len(array)):\n",
        "      soma +=array[i]\n",
        "print(f'soma = {soma}')\n",
        " \n",
        "\n"
      ]
    },
    {
      "cell_type": "code",
      "source": [
        "notas = []\n",
        "cont = 1\n",
        "\n",
        "while cont < 5:\n",
        "  notas.append(float(input('digite a nota {cont} ')))\n",
        "  cont +=1\n",
        "media = sum(notas) / len(notas)\n",
        "\n",
        "print(f'Sua média final foi: {media} ')\n",
        "\n",
        "if media >= 7:\n",
        "  print('aprovado')\n",
        "else:\n",
        "  notas.append(float(input(f'Informe a nota final da prova: ')))\n",
        "  media = sum(notas) / len(notas)\n",
        "  print(f'sua média final foi: {media}')\n",
        "if media > 5:\n",
        "    print('aprovado')\n",
        "else:\n",
        "    print('reprovado')"
      ],
      "metadata": {
        "colab": {
          "base_uri": "https://localhost:8080/"
        },
        "id": "86zJ8Gr3Hogp",
        "outputId": "4674641d-596c-4dad-90d8-0e207545aedd"
      },
      "execution_count": 21,
      "outputs": [
        {
          "output_type": "stream",
          "name": "stdout",
          "text": [
            "digite a nota {cont} 8\n",
            "digite a nota {cont} 5\n",
            "digite a nota {cont} 5\n",
            "digite a nota {cont} 4\n",
            "Sua média final foi: 5.5 \n",
            "Informe a nota final da prova: 5\n",
            "sua média final foi: 5.4\n",
            "aprovado\n"
          ]
        }
      ]
    }
  ]
}